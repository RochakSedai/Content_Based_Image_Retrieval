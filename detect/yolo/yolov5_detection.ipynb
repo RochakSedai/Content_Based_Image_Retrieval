{
 "cells": [
  {
   "cell_type": "code",
   "execution_count": 1,
   "metadata": {
    "execution": {
     "iopub.execute_input": "2022-11-05T04:42:48.093080Z",
     "iopub.status.busy": "2022-11-05T04:42:48.092848Z",
     "iopub.status.idle": "2022-11-05T04:42:48.110064Z",
     "shell.execute_reply": "2022-11-05T04:42:48.109484Z"
    }
   },
   "outputs": [
    {
     "name": "stderr",
     "output_type": "stream",
     "text": [
      "d:\\Major Project on CBIR and Recommendation\\CBIR\\env\\lib\\site-packages\\tqdm\\auto.py:22: TqdmWarning: IProgress not found. Please update jupyter and ipywidgets. See https://ipywidgets.readthedocs.io/en/stable/user_install.html\n",
      "  from .autonotebook import tqdm as notebook_tqdm\n",
      "\u001b[34m\u001b[1mdetect: \u001b[0mweights=D:\\Major Project on CBIR and Recommendation\\CBIR\\detect\\yolo\\category_best.pt, source=D:\\Major Project on CBIR and Recommendation\\CBIR\\media\\photos\\products\\shoes.jpg, data=data\\coco128.yaml, imgsz=[640, 640], conf_thres=0.25, iou_thres=0.45, max_det=1000, device=, view_img=False, save_txt=False, save_conf=False, save_crop=False, nosave=False, classes=None, agnostic_nms=False, augment=False, visualize=False, update=False, project=runs\\detect, name=exp, exist_ok=False, line_thickness=3, hide_labels=False, hide_conf=False, half=False, dnn=False, vid_stride=1\n",
      "YOLOv5  2022-11-5 Python-3.10.5 torch-1.13.0+cpu CPU\n",
      "\n"
     ]
    },
    {
     "name": "stdout",
     "output_type": "stream",
     "text": [
      "\u001b[31m\u001b[1mrequirements:\u001b[0m D:\\Major Project on CBIR and Recommendation\\CBIR\\detect\\yolo\\requirements.txt not found, check failed.\n"
     ]
    },
    {
     "name": "stderr",
     "output_type": "stream",
     "text": [
      "Fusing layers... \n",
      "Model summary: 157 layers, 7039792 parameters, 0 gradients\n",
      "image 1/1 D:\\Major Project on CBIR and Recommendation\\CBIR\\media\\photos\\products\\shoes.jpg: 384x640 1 Sneakers, 243.1ms\n",
      "Speed: 1.0ms pre-process, 243.1ms inference, 2.0ms NMS per image at shape (1, 3, 640, 640)\n",
      "Results saved to \u001b[1mruns\\detect\\exp47\u001b[0m\n",
      "\u001b[34m\u001b[1mdetect1: \u001b[0mweights=D:\\Major Project on CBIR and Recommendation\\CBIR\\detect\\yolo\\Brand_best.pt, source=D:\\Major Project on CBIR and Recommendation\\CBIR\\media\\photos\\products\\shoes.jpg, data=data\\coco128.yaml, imgsz=[640, 640], conf_thres=0.25, iou_thres=0.45, max_det=1000, device=, view_img=False, save_txt=False, save_conf=False, save_crop=False, nosave=False, classes=None, agnostic_nms=False, augment=False, visualize=False, update=False, project=runs\\detect, name=exp, exist_ok=False, line_thickness=3, hide_labels=False, hide_conf=False, half=False, dnn=False, vid_stride=1\n",
      "YOLOv5  2022-11-5 Python-3.10.5 torch-1.13.0+cpu CPU\n",
      "\n"
     ]
    },
    {
     "name": "stdout",
     "output_type": "stream",
     "text": [
      "Sneakers\n",
      "\u001b[31m\u001b[1mrequirements:\u001b[0m D:\\Major Project on CBIR and Recommendation\\CBIR\\detect\\yolo\\requirements.txt not found, check failed.\n"
     ]
    },
    {
     "name": "stderr",
     "output_type": "stream",
     "text": [
      "Fusing layers... \n",
      "Model summary: 157 layers, 7047883 parameters, 0 gradients\n",
      "image 1/1 D:\\Major Project on CBIR and Recommendation\\CBIR\\media\\photos\\products\\shoes.jpg: 384x640 1 Adidas, 242.7ms\n",
      "Speed: 1.0ms pre-process, 242.7ms inference, 3.0ms NMS per image at shape (1, 3, 640, 640)\n",
      "Results saved to \u001b[1mruns\\detect\\exp48\u001b[0m\n",
      "\u001b[34m\u001b[1mdetect2: \u001b[0mweights=D:\\Major Project on CBIR and Recommendation\\CBIR\\detect\\yolo\\color_best.pt, source=D:\\Major Project on CBIR and Recommendation\\CBIR\\media\\photos\\products\\shoes.jpg, data=data\\coco128.yaml, imgsz=[640, 640], conf_thres=0.25, iou_thres=0.45, max_det=1000, device=, view_img=False, save_txt=False, save_conf=False, save_crop=False, nosave=False, classes=None, agnostic_nms=False, augment=False, visualize=False, update=False, project=runs\\detect, name=exp, exist_ok=False, line_thickness=3, hide_labels=False, hide_conf=False, half=False, dnn=False, vid_stride=1\n",
      "YOLOv5  2022-11-5 Python-3.10.5 torch-1.13.0+cpu CPU\n",
      "\n"
     ]
    },
    {
     "name": "stdout",
     "output_type": "stream",
     "text": [
      "Adidas\n",
      "\u001b[31m\u001b[1mrequirements:\u001b[0m D:\\Major Project on CBIR and Recommendation\\CBIR\\detect\\yolo\\requirements.txt not found, check failed.\n"
     ]
    },
    {
     "name": "stderr",
     "output_type": "stream",
     "text": [
      "Fusing layers... \n",
      "Model summary: 157 layers, 7039792 parameters, 0 gradients\n",
      "image 1/1 D:\\Major Project on CBIR and Recommendation\\CBIR\\media\\photos\\products\\shoes.jpg: 384x640 1 White, 183.6ms\n",
      "Speed: 0.0ms pre-process, 183.6ms inference, 0.0ms NMS per image at shape (1, 3, 640, 640)\n",
      "Results saved to \u001b[1mruns\\detect\\exp49\u001b[0m\n"
     ]
    },
    {
     "name": "stdout",
     "output_type": "stream",
     "text": [
      "White\n"
     ]
    }
   ],
   "source": [
    "from threading import Thread\n",
    "import time\n",
    "import os\n",
    "import shutil\n",
    "from IPython import get_ipython \n",
    "\n",
    "\n",
    "\n",
    "%run \"D:\\Major Project on CBIR and Recommendation\\CBIR\\detect\\yolo\\detect.py\"\n",
    "%run \"D:\\Major Project on CBIR and Recommendation\\CBIR\\detect\\yolo\\detect1.py\"\n",
    "%run \"D:\\Major Project on CBIR and Recommendation\\CBIR\\detect\\yolo\\detect2.py\"\n",
    "\n",
    "\n",
    "\n",
    "\n",
    "\n",
    "    "
   ]
  }
 ],
 "metadata": {
  "kernelspec": {
   "display_name": "env",
   "language": "python",
   "name": "python3"
  },
  "language_info": {
   "codemirror_mode": {
    "name": "ipython",
    "version": 3
   },
   "file_extension": ".py",
   "mimetype": "text/x-python",
   "name": "python",
   "nbconvert_exporter": "python",
   "pygments_lexer": "ipython3",
   "version": "3.10.5"
  },
  "vscode": {
   "interpreter": {
    "hash": "17c8eb7ec8749edf21653000ce613df61e54eb41782cd941a0864b06aa0f610f"
   }
  }
 },
 "nbformat": 4,
 "nbformat_minor": 2
}
